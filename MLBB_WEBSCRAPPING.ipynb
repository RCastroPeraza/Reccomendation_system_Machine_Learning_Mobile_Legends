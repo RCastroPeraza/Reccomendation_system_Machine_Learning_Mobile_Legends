{
 "cells": [
  {
   "cell_type": "code",
   "execution_count": 6,
   "metadata": {},
   "outputs": [],
   "source": [
    "import numpy as np\n",
    "from bs4 import BeautifulSoup\n",
    "import pandas as pd\n",
    "import matplotlib\n",
    "import seaborn\n",
    "import requests"
   ]
  },
  {
   "cell_type": "markdown",
   "metadata": {},
   "source": [
    "# url"
   ]
  },
  {
   "cell_type": "code",
   "execution_count": 7,
   "metadata": {},
   "outputs": [],
   "source": [
    "url_hero_list=\"https://mobile-legends.fandom.com/wiki/List_of_heroes\"\n",
    "response = requests.get(url_hero_list)"
   ]
  },
  {
   "cell_type": "code",
   "execution_count": 8,
   "metadata": {},
   "outputs": [],
   "source": [
    "# Hacer una solicitud HTTP a la página\n",
    "response = requests.get(url_hero_list)\n",
    "\n",
    "if response.status_code == 200:\n",
    "    html = response.text\n",
    "    soup = BeautifulSoup(html, 'html.parser')\n",
    "    \n",
    "    # Encontrar la tabla que contiene la lista de héroes\n",
    "    table = soup.find('table', class_='wikitable')\n",
    "    \n",
    "    # Encontrar todas las filas de la tabla\n",
    "    rows = table.find_all('tr')\n",
    "    \n",
    "    # Recorrer las filas para extraer la información de heroes\n",
    "    heroes = []\n",
    "    heroes_code=[]\n",
    "    heroes_role=[]\n",
    "    heroes_specialities=[]\n",
    "    heroes_laning=[]\n",
    "    heroes_year=[]\n",
    "\n",
    "    for row in rows[1:]:  # Omitir la primera fila que contiene encabezados\n",
    "        cols = row.find_all('td')\n",
    "\n",
    "        hero_name = cols[1].text.strip()\n",
    "        heroes.append(hero_name)\n",
    "\n",
    "        hero_code = cols[2].text.strip()\n",
    "        heroes_code.append(hero_code)\n",
    "\n",
    "        hero_role=cols[3].text.strip()\n",
    "        heroes_role.append(hero_role)\n",
    "\n",
    "        hero_speciality=cols[4].text.strip()\n",
    "        heroes_specialities.append(hero_speciality)\n",
    "\n",
    "        hero_laning=cols[5].text.strip()\n",
    "        heroes_laning.append(hero_laning)\n",
    "\n",
    "        hero_year=cols[6].text.strip()\n",
    "        heroes_year.append(hero_year)\n",
    "else:\n",
    "    print(\"Error al acceder a la página:\", response.status_code)\n"
   ]
  },
  {
   "cell_type": "code",
   "execution_count": 9,
   "metadata": {},
   "outputs": [],
   "source": [
    "data = {\n",
    "    \"Código del Heroe\": heroes_code,\n",
    "    \"Heroe\": heroes,\n",
    "    \"Rol\": heroes_role,\n",
    "    \"Especialidad\": heroes_specialities,\n",
    "    \"Línea Preferida\": heroes_laning,\n",
    "    \"Año lanzamiento\": heroes_year\n",
    "}\n",
    "df = pd.DataFrame(data)"
   ]
  },
  {
   "cell_type": "code",
   "execution_count": 10,
   "metadata": {},
   "outputs": [
    {
     "data": {
      "text/html": [
       "<div>\n",
       "<style scoped>\n",
       "    .dataframe tbody tr th:only-of-type {\n",
       "        vertical-align: middle;\n",
       "    }\n",
       "\n",
       "    .dataframe tbody tr th {\n",
       "        vertical-align: top;\n",
       "    }\n",
       "\n",
       "    .dataframe thead th {\n",
       "        text-align: right;\n",
       "    }\n",
       "</style>\n",
       "<table border=\"1\" class=\"dataframe\">\n",
       "  <thead>\n",
       "    <tr style=\"text-align: right;\">\n",
       "      <th></th>\n",
       "      <th>Código del Heroe</th>\n",
       "      <th>Heroe</th>\n",
       "      <th>Rol</th>\n",
       "      <th>Especialidad</th>\n",
       "      <th>Línea Preferida</th>\n",
       "      <th>Año lanzamiento</th>\n",
       "    </tr>\n",
       "  </thead>\n",
       "  <tbody>\n",
       "    <tr>\n",
       "      <th>117</th>\n",
       "      <td>118</td>\n",
       "      <td>Joy</td>\n",
       "      <td>Assassin</td>\n",
       "      <td>Chase | Damage</td>\n",
       "      <td>EXP Laner</td>\n",
       "      <td>2022</td>\n",
       "    </tr>\n",
       "    <tr>\n",
       "      <th>118</th>\n",
       "      <td>119</td>\n",
       "      <td>Arlott</td>\n",
       "      <td>Fighter |  Assassin</td>\n",
       "      <td>Charge | Burst</td>\n",
       "      <td>EXP Laner</td>\n",
       "      <td></td>\n",
       "    </tr>\n",
       "    <tr>\n",
       "      <th>119</th>\n",
       "      <td>120</td>\n",
       "      <td>Novaria</td>\n",
       "      <td>Mage</td>\n",
       "      <td>Burst | Poke</td>\n",
       "      <td>Mid Laner</td>\n",
       "      <td></td>\n",
       "    </tr>\n",
       "    <tr>\n",
       "      <th>120</th>\n",
       "      <td>121</td>\n",
       "      <td>Ixia</td>\n",
       "      <td>Marksman</td>\n",
       "      <td>Finisher | Damage</td>\n",
       "      <td>Gold Laner</td>\n",
       "      <td></td>\n",
       "    </tr>\n",
       "    <tr>\n",
       "      <th>121</th>\n",
       "      <td>122</td>\n",
       "      <td>Nolan</td>\n",
       "      <td>Assassin</td>\n",
       "      <td>Chase | Burst</td>\n",
       "      <td>Jungler</td>\n",
       "      <td></td>\n",
       "    </tr>\n",
       "  </tbody>\n",
       "</table>\n",
       "</div>"
      ],
      "text/plain": [
       "    Código del Heroe    Heroe                  Rol       Especialidad  \\\n",
       "117              118      Joy             Assassin     Chase | Damage   \n",
       "118              119   Arlott  Fighter |  Assassin     Charge | Burst   \n",
       "119              120  Novaria                 Mage       Burst | Poke   \n",
       "120              121     Ixia             Marksman  Finisher | Damage   \n",
       "121              122    Nolan             Assassin      Chase | Burst   \n",
       "\n",
       "    Línea Preferida Año lanzamiento  \n",
       "117       EXP Laner            2022  \n",
       "118       EXP Laner                  \n",
       "119       Mid Laner                  \n",
       "120      Gold Laner                  \n",
       "121         Jungler                  "
      ]
     },
     "execution_count": 10,
     "metadata": {},
     "output_type": "execute_result"
    }
   ],
   "source": [
    "df.tail()"
   ]
  },
  {
   "cell_type": "markdown",
   "metadata": {},
   "source": [
    "# Buscar info de si es mágico o físico"
   ]
  },
  {
   "cell_type": "markdown",
   "metadata": {},
   "source": [
    "Win rate\n"
   ]
  },
  {
   "cell_type": "code",
   "execution_count": null,
   "metadata": {},
   "outputs": [],
   "source": [
    "url_rates=\"https://m.mobilelegends.com/en/rank\"\n",
    "response = requests.get(url_rates)"
   ]
  },
  {
   "cell_type": "code",
   "execution_count": null,
   "metadata": {},
   "outputs": [],
   "source": [
    "# Hacer una solicitud HTTP a la página\n",
    "response = requests.get(url_rates)\n",
    "\n",
    "if response.status_code == 200:\n",
    "    html = response.text\n",
    "    soup = BeautifulSoup(html, 'html.parser')\n",
    "    \n",
    "    # Encontrar la tabla que contiene la lista de héroes\n",
    "    table = soup.find('table', class_='wikitable')\n",
    "    \n",
    "    # Encontrar todas las filas de la tabla\n",
    "    rows = table.find_all('tr')\n",
    "    \n",
    "    # Recorrer las filas para extraer la información de heroes\n",
    "    heroes = []\n",
    "    heroes_code=[]\n",
    "    heroes_role=[]\n",
    "    heroes_specialities=[]\n",
    "    heroes_laning=[]\n",
    "    heroes_year=[]\n",
    "\n",
    "    for row in rows[1:]:  # Omitir la primera fila que contiene encabezados\n",
    "        cols = row.find_all('td')\n",
    "\n",
    "        hero_name = cols[1].text.strip()\n",
    "        heroes.append(hero_name)\n",
    "\n",
    "        hero_code = cols[2].text.strip()\n",
    "        heroes_code.append(hero_code)\n",
    "\n",
    "        hero_role=cols[3].text.strip()\n",
    "        heroes_role.append(hero_role)\n",
    "\n",
    "        hero_speciality=cols[4].text.strip()\n",
    "        heroes_specialities.append(hero_speciality)\n",
    "\n",
    "        hero_laning=cols[5].text.strip()\n",
    "        heroes_laning.append(hero_laning)\n",
    "\n",
    "        hero_year=cols[6].text.strip()\n",
    "        heroes_year.append(hero_year)\n",
    "else:\n",
    "    print(\"Error al acceder a la página:\", response.status_code)\n"
   ]
  }
 ],
 "metadata": {
  "kernelspec": {
   "display_name": "env",
   "language": "python",
   "name": "env"
  },
  "language_info": {
   "codemirror_mode": {
    "name": "ipython",
    "version": 3
   },
   "file_extension": ".py",
   "mimetype": "text/x-python",
   "name": "python",
   "nbconvert_exporter": "python",
   "pygments_lexer": "ipython3",
   "version": "3.11.0"
  },
  "orig_nbformat": 4
 },
 "nbformat": 4,
 "nbformat_minor": 2
}
